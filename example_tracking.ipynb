{
 "cells": [
  {
   "cell_type": "markdown",
   "metadata": {},
   "source": [
    "# Example: Using QTrack to tracking AEWs in reanalysis data\n",
    "\n",
    "This example will demonstrate the basic functions of AEW tracking from the Qtrack module. In order to track AEWs, we must proceed through a few steps:\n",
    "\n",
    "1. Download or location data for tracking. Data requirments: 700hPa wind (u and v component), 6 hourly timesteps, 1 degree by 1 degree resolution. \n",
    "2. `prep_data` function to prep the input data for tracking. \n",
    "4. `curvvort` Compute the curvature vorticity from the wind fields, and then take radial averages at each gridpoint to smooth it. \n",
    "5. `tracking` Run the AEW tracking code. \n",
    "6. `postproc` Run postprocessing on AEW data, including the creation of a netCDF4 file. "
   ]
  },
  {
   "cell_type": "code",
   "execution_count": 1,
   "metadata": {},
   "outputs": [],
   "source": [
    "import qtrack\n",
    "from qtrack.curvvort import compute_curvvort\n",
    "from qtrack.tracking import run_postprocessing, run_tracking"
   ]
  },
  {
   "cell_type": "markdown",
   "metadata": {},
   "source": [
    "### Download Example ERA5 data from 2010\n",
    "The following helper script will obtain example data to test the tracker on. Available datasets include:\n",
    "- \"era5_2010\" ERA5 wind data from the 2010 AEW season. "
   ]
  },
  {
   "cell_type": "code",
   "execution_count": 2,
   "metadata": {},
   "outputs": [
    {
     "name": "stdout",
     "output_type": "stream",
     "text": [
      "Downloading MPAS-A Test case to: mpas_30km_run_2021092400.nc\n"
     ]
    },
    {
     "name": "stderr",
     "output_type": "stream",
     "text": [
      "Downloading...\n",
      "From (original): https://drive.google.com/uc?id=1QxugrKwyP0o5UW1qbAaRC0NVnack_sML\n",
      "From (redirected): https://drive.google.com/uc?id=1QxugrKwyP0o5UW1qbAaRC0NVnack_sML&confirm=t&uuid=5dac7527-d7df-4e94-87f3-bdc6ac6c9e4c\n",
      "To: /Users/qlawton/QTrack/mpas_30km_run_2021092400.nc\n",
      "100%|██████████████████████████████████████| 2.83G/2.83G [00:46<00:00, 61.3MB/s]"
     ]
    },
    {
     "name": "stdout",
     "output_type": "stream",
     "text": [
      "Downloaded Successfully.\n"
     ]
    },
    {
     "name": "stderr",
     "output_type": "stream",
     "text": [
      "\n"
     ]
    }
   ],
   "source": [
    "qtrack.download_examples(\"mpas_2021092400\", \"\")"
   ]
  },
  {
   "cell_type": "markdown",
   "metadata": {},
   "source": [
    "### Prep data "
   ]
  },
  {
   "cell_type": "code",
   "execution_count": 9,
   "metadata": {},
   "outputs": [
    {
     "name": "stdout",
     "output_type": "stream",
     "text": [
      "Possibility of uncut level. Check names of dimensions.\n",
      "We have a level file, slice!\n",
      "Possibility of uncut level. Check names of dimensions.\n",
      "We have a level file, slice!\n"
     ]
    },
    {
     "name": "stderr",
     "output_type": "stream",
     "text": [
      "/Users/qlawton/QTrack/qtrack/core.py:162: UserWarning: Warning: sub-6hrly data identified. Trimming to 6-hourly data for best use in tracker.\n",
      "  warnings.warn(\"Warning: sub-6hrly data identified. Trimming to 6-hourly data for best use in tracker.\")\n"
     ]
    }
   ],
   "source": [
    "prepped_data_save = \"adjusted_data.nc\"\n",
    "qtrack.prep_data(data_in=\"mpas_30km_run_2021092400.nc\", data_out=prepped_data_save, cut_lev_val=70000)\n",
    "# qtrack.prep_data"
   ]
  },
  {
   "cell_type": "markdown",
   "metadata": {},
   "source": [
    "### Curvature vorticity calculation"
   ]
  },
  {
   "cell_type": "code",
   "execution_count": 12,
   "metadata": {},
   "outputs": [
    {
     "name": "stdout",
     "output_type": "stream",
     "text": [
      "Starting Computation of Radial Averaged CV...\n",
      "Time to run computation: 28.410587787628174\n"
     ]
    }
   ],
   "source": [
    "data_file_in = \"adjusted_data.nc\"\n",
    "curv_file_out = \"curv_vort_era5_test.nc\"\n",
    "compute_curvvort(data_file_in, curv_file_out, njobs_in=-1)"
   ]
  },
  {
   "cell_type": "markdown",
   "metadata": {},
   "source": [
    "### AEW Tracking step"
   ]
  },
  {
   "cell_type": "code",
   "execution_count": 13,
   "metadata": {},
   "outputs": [
    {
     "name": "stdout",
     "output_type": "stream",
     "text": [
      "1 out of 33\n",
      "2 out of 33\n",
      "3 out of 33\n",
      "4 out of 33\n",
      "5 out of 33\n",
      "6 out of 33\n",
      "7 out of 33\n",
      "8 out of 33\n",
      "9 out of 33\n",
      "10 out of 33\n",
      "11 out of 33\n",
      "12 out of 33\n",
      "13 out of 33\n",
      "14 out of 33\n",
      "15 out of 33\n",
      "16 out of 33\n",
      "17 out of 33\n",
      "18 out of 33\n",
      "19 out of 33\n",
      "20 out of 33\n",
      "21 out of 33\n",
      "22 out of 33\n",
      "23 out of 33\n",
      "24 out of 33\n",
      "25 out of 33\n",
      "26 out of 33\n",
      "27 out of 33\n",
      "28 out of 33\n",
      "29 out of 33\n",
      "30 out of 33\n",
      "31 out of 33\n",
      "32 out of 33\n",
      "33 out of 33\n"
     ]
    }
   ],
   "source": [
    "AEW_raw_save_file = \"AEW_tracks_raw.nc\"\n",
    "run_tracking(input_file=curv_file_out, save_file=AEW_raw_save_file)"
   ]
  },
  {
   "cell_type": "markdown",
   "metadata": {},
   "source": [
    "### AEW Postprocessing step"
   ]
  },
  {
   "cell_type": "code",
   "execution_count": 14,
   "metadata": {},
   "outputs": [
    {
     "name": "stdout",
     "output_type": "stream",
     "text": [
      "Saved\n"
     ]
    }
   ],
   "source": [
    "AEW_final_nc_file = \"AEW_tracks_post_processed.nc\"\n",
    "AEW_final_obj_file = \"AEW_tracks_post_processed.pkl\"\n",
    "year_in = 2010\n",
    "run_postprocessing(input_file=AEW_raw_save_file, real_year_used=year_in, curv_data_file=curv_file_out, save_obj_file=AEW_final_obj_file, save_nc_file=AEW_final_nc_file)"
   ]
  },
  {
   "cell_type": "markdown",
   "metadata": {},
   "source": [
    "## Done! A diagram should have been saved as \"final_hovmoller.png\""
   ]
  },
  {
   "cell_type": "code",
   "execution_count": null,
   "metadata": {},
   "outputs": [],
   "source": []
  }
 ],
 "metadata": {
  "kernelspec": {
   "display_name": "Python 3 (ipykernel)",
   "language": "python",
   "name": "python3"
  },
  "language_info": {
   "codemirror_mode": {
    "name": "ipython",
    "version": 3
   },
   "file_extension": ".py",
   "mimetype": "text/x-python",
   "name": "python",
   "nbconvert_exporter": "python",
   "pygments_lexer": "ipython3",
   "version": "3.12.4"
  }
 },
 "nbformat": 4,
 "nbformat_minor": 4
}
