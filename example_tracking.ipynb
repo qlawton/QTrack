{
 "cells": [
  {
   "cell_type": "markdown",
   "metadata": {},
   "source": [
    "# Example: Using QTrack to tracking AEWs in reanalysis data\n",
    "\n",
    "This example will demonstrate the basic functions of AEW tracking from the Qtrack module. In order to track AEWs, we must proceed through a few steps:\n",
    "\n",
    "1. Download or location data for tracking. Data requirments: 700hPa wind (u and v component), 6 hourly timesteps, 1 degree by 1 degree resolution. \n",
    "2. `prep_data` function to prep the input data for tracking. \n",
    "3. `nondivwind` (optional) if global data selected, user can run an optional divergent/non-divergent wind decomposition.\n",
    "4. `curvvort` Compute the curvature vorticity from the wind fields, and then take radial averages at each gridpoint to smooth it. \n",
    "5. `tracking` Run the AEW tracking code. \n",
    "6. `postproc` Run postprocessing on AEW data, including the creation of a netCDF4 file. "
   ]
  },
  {
   "cell_type": "code",
   "execution_count": 1,
   "metadata": {},
   "outputs": [],
   "source": [
    "import qtrack\n",
    "from qtrack import nondivwind, curvvort, tracking, postproc"
   ]
  },
  {
   "cell_type": "code",
   "execution_count": 3,
   "metadata": {},
   "outputs": [
    {
     "name": "stdout",
     "output_type": "stream",
     "text": [
      "Downloading ERA5 Test case to: era5_700_wind_global_2010.nc\n"
     ]
    },
    {
     "name": "stderr",
     "output_type": "stream",
     "text": [
      "Downloading...\n",
      "From: https://drive.google.com/uc?id=1aLJpb1UAFTdmZRX56bHVn25EzuTcL8d_\n",
      "To: /Users/qlawton/QTrack/era5_700_wind_global_2010.nc\n",
      "100%|██████████████████████████████████████| 95.9M/95.9M [00:01<00:00, 70.8MB/s]"
     ]
    },
    {
     "name": "stdout",
     "output_type": "stream",
     "text": [
      "Downloaded Successfully.\n"
     ]
    },
    {
     "name": "stderr",
     "output_type": "stream",
     "text": [
      "\n"
     ]
    }
   ],
   "source": [
    "#download_examples(\"era5_test_2010\")\n",
    "qtrack.download_examples(\"era5_2010\", \"\")"
   ]
  },
  {
   "cell_type": "code",
   "execution_count": 4,
   "metadata": {},
   "outputs": [
    {
     "data": {
      "text/plain": [
       "<module 'qtrack.download_examples' from '/Users/qlawton/QTrack/qtrack/download_examples.py'>"
      ]
     },
     "execution_count": 4,
     "metadata": {},
     "output_type": "execute_result"
    }
   ],
   "source": []
  },
  {
   "cell_type": "code",
   "execution_count": null,
   "metadata": {},
   "outputs": [],
   "source": []
  }
 ],
 "metadata": {
  "kernelspec": {
   "display_name": "Python (qtrack-test-env)",
   "language": "python",
   "name": "qtrack-test-env"
  },
  "language_info": {
   "codemirror_mode": {
    "name": "ipython",
    "version": 3
   },
   "file_extension": ".py",
   "mimetype": "text/x-python",
   "name": "python",
   "nbconvert_exporter": "python",
   "pygments_lexer": "ipython3",
   "version": "3.9.0"
  }
 },
 "nbformat": 4,
 "nbformat_minor": 4
}
