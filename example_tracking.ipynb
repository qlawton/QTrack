{
 "cells": [
  {
   "cell_type": "markdown",
   "metadata": {},
   "source": [
    "# Example: Using QTrack to tracking AEWs in reanalysis data\n",
    "\n",
    "This example will demonstrate the basic functions of AEW tracking from the Qtrack module. In order to track AEWs, we must proceed through a few steps:\n",
    "\n",
    "1. Download or location data for tracking. Data requirments: 700hPa wind (u and v component), 6 hourly timesteps, 1 degree by 1 degree resolution. \n",
    "2. `prep_data` function to prep the input data for tracking. \n",
    "3. `nondivwind` (optional) if global data selected, user can run an optional divergent/non-divergent wind decomposition.\n",
    "4. `curvvort` Compute the curvature vorticity from the wind fields, and then take radial averages at each gridpoint to smooth it. \n",
    "5. `tracking` Run the AEW tracking code. \n",
    "6. `postproc` Run postprocessing on AEW data, including the creation of a netCDF4 file. "
   ]
  },
  {
   "cell_type": "code",
   "execution_count": 1,
   "metadata": {},
   "outputs": [],
   "source": [
    "import qtrack\n",
    "from qtrack.nondivwind import compute_nondiv_wind\n",
    "from qtrack.curvvort import compute_curvvort\n",
    "from qtrack.tracking import run_tracking, run_postprocessing\n",
    "import time\n",
    "tstart = time.time()"
   ]
  },
  {
   "cell_type": "markdown",
   "metadata": {},
   "source": [
    "### Download Example ERA5 data from 2010\n",
    "The following helper script will obtain example data to test the tracker on. Available datasets include:\n",
    "- \"era5_2010\" ERA5 wind data from the 2010 AEW season. "
   ]
  },
  {
   "cell_type": "code",
   "execution_count": 2,
   "metadata": {},
   "outputs": [
    {
     "name": "stdout",
     "output_type": "stream",
     "text": [
      "Downloading MPAS-A Test case to: mpas_30km_run_2021092400.nc\n"
     ]
    },
    {
     "name": "stderr",
     "output_type": "stream",
     "text": [
      "Downloading...\n",
      "From (original): https://drive.google.com/uc?id=1QxugrKwyP0o5UW1qbAaRC0NVnack_sML\n",
      "From (redirected): https://drive.google.com/uc?id=1QxugrKwyP0o5UW1qbAaRC0NVnack_sML&confirm=t&uuid=5dac7527-d7df-4e94-87f3-bdc6ac6c9e4c\n",
      "To: /Users/qlawton/QTrack/mpas_30km_run_2021092400.nc\n",
      "100%|██████████████████████████████████████| 2.83G/2.83G [00:46<00:00, 61.3MB/s]"
     ]
    },
    {
     "name": "stdout",
     "output_type": "stream",
     "text": [
      "Downloaded Successfully.\n"
     ]
    },
    {
     "name": "stderr",
     "output_type": "stream",
     "text": [
      "\n"
     ]
    }
   ],
   "source": [
    "qtrack.download_examples(\"mpas_2021092400\", \"\")"
   ]
  },
  {
   "cell_type": "markdown",
   "metadata": {},
   "source": [
    "### Prep data "
   ]
  },
  {
   "cell_type": "code",
   "execution_count": 9,
   "metadata": {},
   "outputs": [
    {
     "name": "stdout",
     "output_type": "stream",
     "text": [
      "Possibility of uncut level. Check names of dimensions.\n",
      "We have a level file, slice!\n",
      "Possibility of uncut level. Check names of dimensions.\n",
      "We have a level file, slice!\n"
     ]
    },
    {
     "name": "stderr",
     "output_type": "stream",
     "text": [
      "/Users/qlawton/QTrack/qtrack/core.py:162: UserWarning: Warning: sub-6hrly data identified. Trimming to 6-hourly data for best use in tracker.\n",
      "  warnings.warn(\"Warning: sub-6hrly data identified. Trimming to 6-hourly data for best use in tracker.\")\n"
     ]
    }
   ],
   "source": [
    "prepped_data_save = 'adjusted_data.nc'\n",
    "qtrack.prep_data(data_in = \"mpas_30km_run_2021092400.nc\", \n",
    "                data_out = prepped_data_save, cut_lev_val = 70000)\n",
    "#qtrack.prep_data"
   ]
  },
  {
   "cell_type": "code",
   "execution_count": 10,
   "metadata": {},
   "outputs": [],
   "source": [
    "#qtrack.prep_data"
   ]
  },
  {
   "cell_type": "markdown",
   "metadata": {},
   "source": [
    "### Non-divergent wind calculation (not working)\n",
    "#### **WARNING: ONLY RUN THIS STEP ON FULLY GLOBAL DATA**"
   ]
  },
  {
   "cell_type": "code",
   "execution_count": 11,
   "metadata": {},
   "outputs": [],
   "source": [
    "# nondiv_data_file_in = \"era5_700_wind_global_2010.nc\"\n",
    "# nondiv_data_file_out = \"era5_nondiv_700_global_2010.nc\"\n",
    "# compute_nondiv_wind(nondiv_data_file_in, nondiv_data_file_out)"
   ]
  },
  {
   "cell_type": "markdown",
   "metadata": {},
   "source": [
    "### Curvature vorticity calculation"
   ]
  },
  {
   "cell_type": "code",
   "execution_count": 12,
   "metadata": {},
   "outputs": [
    {
     "name": "stdout",
     "output_type": "stream",
     "text": [
      "Starting Computation of Radial Averaged CV...\n",
      "Time to run computation: 28.410587787628174\n"
     ]
    }
   ],
   "source": [
    "data_file_in = \"adjusted_data.nc\"\n",
    "curv_file_out = \"curv_vort_era5_test.nc\"\n",
    "compute_curvvort(data_file_in, curv_file_out, njobs_in = -1)"
   ]
  },
  {
   "cell_type": "markdown",
   "metadata": {},
   "source": [
    "### AEW Tracking step"
   ]
  },
  {
   "cell_type": "code",
   "execution_count": 13,
   "metadata": {},
   "outputs": [
    {
     "name": "stdout",
     "output_type": "stream",
     "text": [
      "1 out of 33\n",
      "2 out of 33\n",
      "3 out of 33\n",
      "4 out of 33\n",
      "5 out of 33\n",
      "6 out of 33\n",
      "7 out of 33\n",
      "8 out of 33\n",
      "9 out of 33\n",
      "10 out of 33\n",
      "11 out of 33\n",
      "12 out of 33\n",
      "13 out of 33\n",
      "14 out of 33\n",
      "15 out of 33\n",
      "16 out of 33\n",
      "17 out of 33\n",
      "18 out of 33\n",
      "19 out of 33\n",
      "20 out of 33\n",
      "21 out of 33\n",
      "22 out of 33\n",
      "23 out of 33\n",
      "24 out of 33\n",
      "25 out of 33\n",
      "26 out of 33\n",
      "27 out of 33\n",
      "28 out of 33\n",
      "29 out of 33\n",
      "30 out of 33\n",
      "31 out of 33\n",
      "32 out of 33\n",
      "33 out of 33\n"
     ]
    }
   ],
   "source": [
    "AEW_raw_save_file = 'AEW_tracks_raw.nc'\n",
    "run_tracking(input_file = curv_file_out, save_file = AEW_raw_save_file)"
   ]
  },
  {
   "cell_type": "markdown",
   "metadata": {},
   "source": [
    "### AEW Postprocessing step"
   ]
  },
  {
   "cell_type": "code",
   "execution_count": 14,
   "metadata": {},
   "outputs": [
    {
     "name": "stdout",
     "output_type": "stream",
     "text": [
      "Saved\n"
     ]
    }
   ],
   "source": [
    "AEW_final_nc_file = 'AEW_tracks_post_processed.nc'\n",
    "AEW_final_obj_file = 'AEW_tracks_post_processed.pkl'\n",
    "year_in = 2010\n",
    "run_postprocessing(input_file = AEW_raw_save_file, real_year_used = year_in, curv_data_file = curv_file_out, save_obj_file = AEW_final_obj_file, save_nc_file = AEW_final_nc_file)"
   ]
  },
  {
   "cell_type": "code",
   "execution_count": 15,
   "metadata": {},
   "outputs": [
    {
     "name": "stdout",
     "output_type": "stream",
     "text": [
      "Time to run computation: 259.58 seconds | 4.33 minutes\n",
      "\n",
      "Timestep number: 3\n",
      "Timestep number: 21\n",
      "Timestep number: 4\n",
      "Timestep number: 22\n",
      "Timestep number: 8\n",
      "Timestep number: 23\n",
      "Timestep number: 1\n",
      "Timestep number: 12\n",
      "Timestep number: 24\n",
      "Timestep number: 7\n",
      "Timestep number: 13\n",
      "Timestep number: 25\n",
      "Timestep number: 0\n",
      "Timestep number: 14\n",
      "Timestep number: 26\n",
      "Timestep number: 2\n",
      "Timestep number: 18\n",
      "Timestep number: 29\n",
      "Timestep number: 9\n",
      "Timestep number: 15\n",
      "Timestep number: 27\n",
      "Timestep number: 10\n",
      "Timestep number: 16\n",
      "Timestep number: 28\n",
      "Timestep number: 5\n",
      "Timestep number: 17\n",
      "Timestep number: 30\n",
      "Timestep number: 11\n",
      "Timestep number: 19\n",
      "Timestep number: 31\n",
      "Timestep number: 6\n",
      "Timestep number: 20\n",
      "Timestep number: 32\n"
     ]
    }
   ],
   "source": [
    "tend = time.time()\n",
    "elapsed_time = tstart - tend\n",
    "print('Time to run computation: '+ str(round(tend - tstart, 2))+ ' seconds | '+str(round((tend - tstart)/60,2))+ ' minutes')\n",
    "print()"
   ]
  },
  {
   "cell_type": "code",
   "execution_count": null,
   "metadata": {},
   "outputs": [],
   "source": []
  }
 ],
 "metadata": {
  "kernelspec": {
   "display_name": "Python (qtrack-test-env)",
   "language": "python",
   "name": "qtrack-test-env"
  },
  "language_info": {
   "codemirror_mode": {
    "name": "ipython",
    "version": 3
   },
   "file_extension": ".py",
   "mimetype": "text/x-python",
   "name": "python",
   "nbconvert_exporter": "python",
   "pygments_lexer": "ipython3",
   "version": "3.12.4"
  }
 },
 "nbformat": 4,
 "nbformat_minor": 4
}
