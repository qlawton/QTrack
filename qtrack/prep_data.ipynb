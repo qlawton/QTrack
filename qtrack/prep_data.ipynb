{
 "cells": [
  {
   "cell_type": "code",
   "execution_count": 1,
   "metadata": {},
   "outputs": [],
   "source": [
    "import xarray as xr\n",
    "import numpy as np`"
   ]
  },
  {
   "cell_type": "code",
   "execution_count": 6,
   "metadata": {},
   "outputs": [],
   "source": [
    "input_data = '../era5_700_wind_global_2010_10day.nc'\n",
    "adjust_coords = True\n",
    "adjust_time = False\n",
    "adjust_level = False\n",
    "adjust_resolution = False\n",
    "append_additional_data = False\n",
    "appended_time = None"
   ]
  },
  {
   "cell_type": "code",
   "execution_count": 25,
   "metadata": {},
   "outputs": [],
   "source": [
    "lon_names = ['longitude', 'lon', 'lons']\n",
    "lat_names = ['latitude', 'lat', 'lats']\n",
    "wind_names = ['u', 'v']\n",
    "level_to_cut = 700"
   ]
  },
  {
   "cell_type": "code",
   "execution_count": 30,
   "metadata": {},
   "outputs": [],
   "source": [
    "## First, load in the dataset\n",
    "correct_n_dims = 3\n",
    "data_xr = xr.open_dataset(input_data)\n",
    "\n",
    "#### FIRST CHECK THE VARIABLES\n",
    "### Get a list of the included keys\n",
    "var_list = list(data_xr.keys())\n",
    "if (wind_names[0] not in var_list):\n",
    "    raise Exception(\"Missing variable \"+str(wind_names[0])+\" in provided file.\")\n",
    "if (wind_names[1] not in var_list):\n",
    "    raise Exception(\"Missing variable \"+str(wind_names[1])+\" in provided file.\")\n",
    "\n",
    "### CUT DOWN TO JUST THE VARIABLES NEEDED\n",
    "data_xr = data_xr[wind_names]\n",
    "\n",
    "### Now, check the dimensions, and adjust if necessary\n",
    "for var in wind_names:\n",
    "    n_dims = len(data_xr[var].dims)\n",
    "    if n_dims < 3:\n",
    "        raise Exception(\"Not enough dimensions in dataset. Check that you have at least time, longitude, and latitude included.\")\n",
    "    elif n_dims == 4:\n",
    "        print('Possibility of uncut level. Check names of dimensions.')\n",
    "\n",
    "        if 'level' in data_xr[var].dims:\n",
    "            print('We have a level file, slice!')\n",
    "            data_xr[var].sel(level = level_to_cut)\n",
    "        else: \n",
    "            raise Exception(\"More than three dimensions specified, but 'level' not found. Please cut your input data down to just time, latitude, longitude, and level coordinates.\")\n",
    "    elif n_dims > 4:\n",
    "        raise Exception(\"Too many coordinates. Please cut your input data down to just time, latitude, longitude, and level (unless already cut to specified level\")\n",
    "\n",
    "    \n",
    "### Next, check that we have at least a longitude/lon, latitude/lat, and time included. Can do this simultaneously \n",
    "lon_key = [i for i in lon_names if lon_names in list(data_xr.dims)]\n",
    "\n",
    "if adjust_coords == True:\n",
    "    pass\n",
    "    \n",
    "    ## REQUIREMENTS: Latitude goes from positive to negative. Longitude is in -180 to +180 (and not 0 to 360)"
   ]
  },
  {
   "cell_type": "code",
   "execution_count": 27,
   "metadata": {},
   "outputs": [
    {
     "data": {
      "text/plain": [
       "('time', 'latitude', 'longitude')"
      ]
     },
     "execution_count": 27,
     "metadata": {},
     "output_type": "execute_result"
    }
   ],
   "source": [
    "data_xr\n"
   ]
  },
  {
   "cell_type": "code",
   "execution_count": null,
   "metadata": {},
   "outputs": [],
   "source": []
  }
 ],
 "metadata": {
  "kernelspec": {
   "display_name": "Python (base)",
   "language": "python",
   "name": "base"
  },
  "language_info": {
   "codemirror_mode": {
    "name": "ipython",
    "version": 3
   },
   "file_extension": ".py",
   "mimetype": "text/x-python",
   "name": "python",
   "nbconvert_exporter": "python",
   "pygments_lexer": "ipython3",
   "version": "3.8.3"
  }
 },
 "nbformat": 4,
 "nbformat_minor": 4
}
